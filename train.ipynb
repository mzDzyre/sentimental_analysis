{
 "cells": [
  {
   "cell_type": "markdown",
   "id": "52f3eb97-41a4-4732-9c7b-5d457aabfc07",
   "metadata": {},
   "source": [
    "### Import All mandatory Libraries"
   ]
  },
  {
   "cell_type": "code",
   "execution_count": 93,
   "id": "7fb8df79-6dd2-43e8-8323-1d3dc9c4595c",
   "metadata": {},
   "outputs": [],
   "source": [
    "import pandas as pd\n",
    "import numpy as np\n",
    "from sklearn.feature_extraction.text import TfidfVectorizer\n",
    "from sklearn.model_selection import train_test_split\n",
    "import pickle\n",
    "from sklearn.linear_model import LogisticRegressionCV"
   ]
  },
  {
   "cell_type": "code",
   "execution_count": 94,
   "id": "a27e2fc1-2ff2-4d7d-a106-40f71ec51a82",
   "metadata": {},
   "outputs": [
    {
     "name": "stderr",
     "output_type": "stream",
     "text": [
      "[nltk_data] Downloading package stopwords to\n",
      "[nltk_data]     C:\\Users\\HP\\AppData\\Roaming\\nltk_data...\n",
      "[nltk_data]   Package stopwords is already up-to-date!\n"
     ]
    },
    {
     "data": {
      "text/plain": [
       "True"
      ]
     },
     "execution_count": 94,
     "metadata": {},
     "output_type": "execute_result"
    }
   ],
   "source": [
    "import nltk\n",
    "nltk.download('stopwords')"
   ]
  },
  {
   "cell_type": "markdown",
   "id": "9785bd4e-f1b3-4545-8bba-a0a92de25462",
   "metadata": {},
   "source": [
    "### Data Cleaning and Preprocessing"
   ]
  },
  {
   "cell_type": "code",
   "execution_count": 95,
   "id": "9ffdd65b-747e-497a-8988-aab3cc846c3e",
   "metadata": {},
   "outputs": [
    {
     "data": {
      "text/plain": [
       "(499, 7)"
      ]
     },
     "execution_count": 95,
     "metadata": {},
     "output_type": "execute_result"
    }
   ],
   "source": [
    "df1 = 'data/sentiment_analysis.csv'\n",
    "em1 = pd.read_csv(df1)\n",
    "em1.shape"
   ]
  },
  {
   "cell_type": "code",
   "execution_count": 96,
   "id": "4b638f30-3b58-4d44-af3b-2f8e1f9bba5d",
   "metadata": {},
   "outputs": [
    {
     "data": {
      "text/plain": [
       "(3534, 9)"
      ]
     },
     "execution_count": 96,
     "metadata": {},
     "output_type": "execute_result"
    }
   ],
   "source": [
    "df2 = 'data/test.csv'\n",
    "em2 = pd.read_csv(df2, encoding='unicode_escape')\n",
    "em2 = em2[(em2['sentiment']=='positive') | (em2['sentiment']=='neutral') | (em2['sentiment']=='negative')]\n",
    "em2.shape"
   ]
  },
  {
   "cell_type": "markdown",
   "id": "efe25e55-e1b5-4a88-91bf-9723d3ce7e69",
   "metadata": {},
   "source": [
    "#### Concatination of 2 Dataframes"
   ]
  },
  {
   "cell_type": "code",
   "execution_count": 100,
   "id": "80df1aa6-6528-4f58-b757-4827f5e6d6d6",
   "metadata": {},
   "outputs": [
    {
     "data": {
      "text/html": [
       "<div>\n",
       "<style scoped>\n",
       "    .dataframe tbody tr th:only-of-type {\n",
       "        vertical-align: middle;\n",
       "    }\n",
       "\n",
       "    .dataframe tbody tr th {\n",
       "        vertical-align: top;\n",
       "    }\n",
       "\n",
       "    .dataframe thead th {\n",
       "        text-align: right;\n",
       "    }\n",
       "</style>\n",
       "<table border=\"1\" class=\"dataframe\">\n",
       "  <thead>\n",
       "    <tr style=\"text-align: right;\">\n",
       "      <th></th>\n",
       "      <th>text</th>\n",
       "      <th>sentiment</th>\n",
       "    </tr>\n",
       "  </thead>\n",
       "  <tbody>\n",
       "    <tr>\n",
       "      <th>0</th>\n",
       "      <td>What a great day!!! Looks like dream.</td>\n",
       "      <td>positive</td>\n",
       "    </tr>\n",
       "    <tr>\n",
       "      <th>1</th>\n",
       "      <td>I feel sorry, I miss you here in the sea beach</td>\n",
       "      <td>positive</td>\n",
       "    </tr>\n",
       "    <tr>\n",
       "      <th>2</th>\n",
       "      <td>Don't angry me</td>\n",
       "      <td>negative</td>\n",
       "    </tr>\n",
       "    <tr>\n",
       "      <th>3</th>\n",
       "      <td>We attend in the class just for listening teac...</td>\n",
       "      <td>negative</td>\n",
       "    </tr>\n",
       "    <tr>\n",
       "      <th>4</th>\n",
       "      <td>Those who want to go, let them go</td>\n",
       "      <td>negative</td>\n",
       "    </tr>\n",
       "    <tr>\n",
       "      <th>...</th>\n",
       "      <td>...</td>\n",
       "      <td>...</td>\n",
       "    </tr>\n",
       "    <tr>\n",
       "      <th>3529</th>\n",
       "      <td>its at 3 am, im very tired but i can`t sleep  ...</td>\n",
       "      <td>negative</td>\n",
       "    </tr>\n",
       "    <tr>\n",
       "      <th>3530</th>\n",
       "      <td>All alone in this old house again.  Thanks for...</td>\n",
       "      <td>positive</td>\n",
       "    </tr>\n",
       "    <tr>\n",
       "      <th>3531</th>\n",
       "      <td>I know what you mean. My little dog is sinkin...</td>\n",
       "      <td>negative</td>\n",
       "    </tr>\n",
       "    <tr>\n",
       "      <th>3532</th>\n",
       "      <td>_sutra what is your next youtube video gonna b...</td>\n",
       "      <td>positive</td>\n",
       "    </tr>\n",
       "    <tr>\n",
       "      <th>3533</th>\n",
       "      <td>http://twitpic.com/4woj2 - omgssh  ang cute n...</td>\n",
       "      <td>positive</td>\n",
       "    </tr>\n",
       "  </tbody>\n",
       "</table>\n",
       "<p>4033 rows × 2 columns</p>\n",
       "</div>"
      ],
      "text/plain": [
       "                                                   text sentiment\n",
       "0                 What a great day!!! Looks like dream.  positive\n",
       "1        I feel sorry, I miss you here in the sea beach  positive\n",
       "2                                        Don't angry me  negative\n",
       "3     We attend in the class just for listening teac...  negative\n",
       "4                     Those who want to go, let them go  negative\n",
       "...                                                 ...       ...\n",
       "3529  its at 3 am, im very tired but i can`t sleep  ...  negative\n",
       "3530  All alone in this old house again.  Thanks for...  positive\n",
       "3531   I know what you mean. My little dog is sinkin...  negative\n",
       "3532  _sutra what is your next youtube video gonna b...  positive\n",
       "3533   http://twitpic.com/4woj2 - omgssh  ang cute n...  positive\n",
       "\n",
       "[4033 rows x 2 columns]"
      ]
     },
     "execution_count": 100,
     "metadata": {},
     "output_type": "execute_result"
    }
   ],
   "source": [
    "em1 = em1[['text','sentiment']]\n",
    "em2 = em2[['text','sentiment']]\n",
    "final_data = pd.concat([em1,em2],axis=0)\n",
    "final_data"
   ]
  },
  {
   "cell_type": "code",
   "execution_count": 101,
   "id": "87da4743-e351-4452-8436-4b6c32632ac7",
   "metadata": {},
   "outputs": [
    {
     "data": {
      "text/html": [
       "<div>\n",
       "<style scoped>\n",
       "    .dataframe tbody tr th:only-of-type {\n",
       "        vertical-align: middle;\n",
       "    }\n",
       "\n",
       "    .dataframe tbody tr th {\n",
       "        vertical-align: top;\n",
       "    }\n",
       "\n",
       "    .dataframe thead th {\n",
       "        text-align: right;\n",
       "    }\n",
       "</style>\n",
       "<table border=\"1\" class=\"dataframe\">\n",
       "  <thead>\n",
       "    <tr style=\"text-align: right;\">\n",
       "      <th></th>\n",
       "      <th>text</th>\n",
       "      <th>sentiment</th>\n",
       "      <th>label</th>\n",
       "    </tr>\n",
       "  </thead>\n",
       "  <tbody>\n",
       "    <tr>\n",
       "      <th>0</th>\n",
       "      <td>What a great day!!! Looks like dream.</td>\n",
       "      <td>positive</td>\n",
       "      <td>2</td>\n",
       "    </tr>\n",
       "    <tr>\n",
       "      <th>1</th>\n",
       "      <td>I feel sorry, I miss you here in the sea beach</td>\n",
       "      <td>positive</td>\n",
       "      <td>2</td>\n",
       "    </tr>\n",
       "    <tr>\n",
       "      <th>2</th>\n",
       "      <td>Don't angry me</td>\n",
       "      <td>negative</td>\n",
       "      <td>0</td>\n",
       "    </tr>\n",
       "    <tr>\n",
       "      <th>3</th>\n",
       "      <td>We attend in the class just for listening teac...</td>\n",
       "      <td>negative</td>\n",
       "      <td>0</td>\n",
       "    </tr>\n",
       "    <tr>\n",
       "      <th>4</th>\n",
       "      <td>Those who want to go, let them go</td>\n",
       "      <td>negative</td>\n",
       "      <td>0</td>\n",
       "    </tr>\n",
       "  </tbody>\n",
       "</table>\n",
       "</div>"
      ],
      "text/plain": [
       "                                                text sentiment  label\n",
       "0              What a great day!!! Looks like dream.  positive      2\n",
       "1     I feel sorry, I miss you here in the sea beach  positive      2\n",
       "2                                     Don't angry me  negative      0\n",
       "3  We attend in the class just for listening teac...  negative      0\n",
       "4                  Those who want to go, let them go  negative      0"
      ]
     },
     "execution_count": 101,
     "metadata": {},
     "output_type": "execute_result"
    }
   ],
   "source": [
    "# # ----------- This Shell is Experimetal can not harm the model if mistakenly run only this is for elaboration --------------\n",
    "# Mapping of positive negative and neutral\n",
    "sentiment_to_label = {'positive': 2, 'neutral': 1, 'negative': 0}\n",
    "# Apply the mapping to create a new 'label' column\n",
    "final_data['label'] = final_data['sentiment'].map(sentiment_to_label)\n",
    "final_data.head()"
   ]
  },
  {
   "cell_type": "code",
   "execution_count": 102,
   "id": "dee3a7f5-e08c-430e-aa95-c62821cd041d",
   "metadata": {},
   "outputs": [
    {
     "data": {
      "text/html": [
       "<div>\n",
       "<style scoped>\n",
       "    .dataframe tbody tr th:only-of-type {\n",
       "        vertical-align: middle;\n",
       "    }\n",
       "\n",
       "    .dataframe tbody tr th {\n",
       "        vertical-align: top;\n",
       "    }\n",
       "\n",
       "    .dataframe thead th {\n",
       "        text-align: right;\n",
       "    }\n",
       "</style>\n",
       "<table border=\"1\" class=\"dataframe\">\n",
       "  <thead>\n",
       "    <tr style=\"text-align: right;\">\n",
       "      <th></th>\n",
       "      <th>text</th>\n",
       "      <th>sentiment</th>\n",
       "    </tr>\n",
       "  </thead>\n",
       "  <tbody>\n",
       "    <tr>\n",
       "      <th>0</th>\n",
       "      <td>What a great day!!! Looks like dream.</td>\n",
       "      <td>positive</td>\n",
       "    </tr>\n",
       "    <tr>\n",
       "      <th>1</th>\n",
       "      <td>I feel sorry, I miss you here in the sea beach</td>\n",
       "      <td>positive</td>\n",
       "    </tr>\n",
       "    <tr>\n",
       "      <th>2</th>\n",
       "      <td>Don't angry me</td>\n",
       "      <td>negative</td>\n",
       "    </tr>\n",
       "    <tr>\n",
       "      <th>3</th>\n",
       "      <td>We attend in the class just for listening teac...</td>\n",
       "      <td>negative</td>\n",
       "    </tr>\n",
       "    <tr>\n",
       "      <th>4</th>\n",
       "      <td>Those who want to go, let them go</td>\n",
       "      <td>negative</td>\n",
       "    </tr>\n",
       "  </tbody>\n",
       "</table>\n",
       "</div>"
      ],
      "text/plain": [
       "                                                text sentiment\n",
       "0              What a great day!!! Looks like dream.  positive\n",
       "1     I feel sorry, I miss you here in the sea beach  positive\n",
       "2                                     Don't angry me  negative\n",
       "3  We attend in the class just for listening teac...  negative\n",
       "4                  Those who want to go, let them go  negative"
      ]
     },
     "execution_count": 102,
     "metadata": {},
     "output_type": "execute_result"
    }
   ],
   "source": [
    "# We Only Have to work With text and its sentiment we can also go with it's label as well only some will change in the code\n",
    "\n",
    "data = final_data[['text','sentiment']]\n",
    "# for Experiment\n",
    "# data = emotions[['text','label']]\n",
    "data.head()"
   ]
  },
  {
   "cell_type": "markdown",
   "id": "3e80b1dc-214a-412c-8828-41a45f94af67",
   "metadata": {},
   "source": [
    "### Feature Extraction"
   ]
  },
  {
   "cell_type": "code",
   "execution_count": 120,
   "id": "a325f61b-02d2-4a43-9854-7bc070b2c203",
   "metadata": {},
   "outputs": [],
   "source": [
    "tfidf = TfidfVectorizer(\n",
    "    use_idf=True,\n",
    "    norm='l2',\n",
    "    smooth_idf=True\n",
    ")\n",
    "# y= data.label.values\n",
    "y = data.sentiment.values\n",
    "X = tfidf.fit_transform(data['text'].values.astype('U'))\n",
    "tfidf_vectorizer = open('tfidf_vectorizer.sav','wb')\n",
    "pickle.dump(tfidf,tfidf_vectorizer)\n",
    "tfidf_vectorizer.close()"
   ]
  },
  {
   "cell_type": "markdown",
   "id": "af96277c-9f8b-47d4-a913-6ef5fcb3b427",
   "metadata": {},
   "source": [
    "### Prepare data for Traning and Testing"
   ]
  },
  {
   "cell_type": "code",
   "execution_count": 121,
   "id": "064bede2-7cf8-4ec0-899f-185ee4064996",
   "metadata": {},
   "outputs": [],
   "source": [
    "X_train,X_test,y_train,y_test = train_test_split(X,y,random_state=1,test_size=0.2,shuffle=False)"
   ]
  },
  {
   "cell_type": "markdown",
   "id": "7f68d5fa-b9b9-4734-9204-e5f0e5d324af",
   "metadata": {},
   "source": [
    "### Model Traning and Save Model"
   ]
  },
  {
   "cell_type": "code",
   "execution_count": 122,
   "id": "fccb9c8e-5e1f-4f6c-8101-f5dce2448491",
   "metadata": {},
   "outputs": [
    {
     "name": "stderr",
     "output_type": "stream",
     "text": [
      "[Parallel(n_jobs=-1)]: Using backend LokyBackend with 4 concurrent workers.\n",
      "[Parallel(n_jobs=-1)]: Done   2 out of   5 | elapsed:   42.4s remaining:  1.1min\n",
      "[Parallel(n_jobs=-1)]: Done   5 out of   5 | elapsed:   53.0s finished\n"
     ]
    }
   ],
   "source": [
    "clf = LogisticRegressionCV(\n",
    "    cv=5,\n",
    "    scoring='accuracy',\n",
    "    random_state=0,\n",
    "    n_jobs=-1,\n",
    "    verbose=3,\n",
    "    max_iter=300\n",
    ").fit(X_train,y_train)\n",
    "saved_model = open('saved_model.sav','wb')\n",
    "pickle.dump(clf,saved_model)\n",
    "saved_model.close()"
   ]
  },
  {
   "cell_type": "markdown",
   "id": "254f17bf-1e96-4ab5-9f1b-5db39ef5f5b1",
   "metadata": {},
   "source": [
    "### Check Model Accuracy"
   ]
  },
  {
   "cell_type": "code",
   "execution_count": 123,
   "id": "cff9ddaf-d6b8-47f8-b050-3a1cf5cb80c5",
   "metadata": {},
   "outputs": [
    {
     "name": "stdout",
     "output_type": "stream",
     "text": [
      "Model Accuracy is : 62.33%\n"
     ]
    }
   ],
   "source": [
    "filename = 'saved_model.sav'\n",
    "with open(filename, 'rb') as model_file:\n",
    "    saved_model = pickle.load(model_file)\n",
    "accuracy = saved_model.score(X_test,y_test)\n",
    "print(f\"Model Accuracy is : {accuracy*100:.2f}%\")"
   ]
  },
  {
   "cell_type": "markdown",
   "id": "b8c639eb-ef8c-4383-a508-6cf074b1d861",
   "metadata": {},
   "source": [
    "### Prediction"
   ]
  },
  {
   "cell_type": "markdown",
   "id": "1b16cb07-612d-4a01-abad-e3ff49d2dc49",
   "metadata": {},
   "source": [
    "##### You Can Directly run Prediction shell "
   ]
  },
  {
   "cell_type": "code",
   "execution_count": 15,
   "id": "0267fa9f-a537-4e68-ba03-ce1f85961132",
   "metadata": {},
   "outputs": [
    {
     "name": "stdin",
     "output_type": "stream",
     "text": [
      "Enter you Text to Predict the Sentiment : This service is not really expected it can be better\n"
     ]
    },
    {
     "name": "stdout",
     "output_type": "stream",
     "text": [
      "Your Text Sentiment is : neutral\n"
     ]
    }
   ],
   "source": [
    "import pickle\n",
    "\n",
    "filename = 'saved_model.sav'\n",
    "with open(filename, 'rb') as model_file:\n",
    "    saved_model = pickle.load(model_file)\n",
    "    \n",
    "vectorizer_filename = 'tfidf_vectorizer.sav'\n",
    "with open(vectorizer_filename, 'rb') as vectorizer_file:\n",
    "    tfidf_vectorizer = pickle.load(vectorizer_file)\n",
    "\n",
    "text = input(\"Enter you Text to Predict the Sentiment :\")\n",
    "text_tfidf = tfidf_vectorizer.transform([text])\n",
    "prediction = saved_model.predict(text_tfidf)\n",
    "print(f\"Your Text Sentiment is : {prediction[0]}\")"
   ]
  },
  {
   "cell_type": "code",
   "execution_count": null,
   "id": "f54d9e11-9d63-47ee-b344-e2e491c81de3",
   "metadata": {},
   "outputs": [],
   "source": []
  },
  {
   "cell_type": "code",
   "execution_count": null,
   "id": "e8fc40a2-1b03-48e2-b88a-63f799daae65",
   "metadata": {},
   "outputs": [],
   "source": []
  }
 ],
 "metadata": {
  "kernelspec": {
   "display_name": "Python 3 (ipykernel)",
   "language": "python",
   "name": "python3"
  },
  "language_info": {
   "codemirror_mode": {
    "name": "ipython",
    "version": 3
   },
   "file_extension": ".py",
   "mimetype": "text/x-python",
   "name": "python",
   "nbconvert_exporter": "python",
   "pygments_lexer": "ipython3",
   "version": "3.12.1"
  }
 },
 "nbformat": 4,
 "nbformat_minor": 5
}
